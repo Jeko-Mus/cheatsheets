{
 "cells": [
  {
   "cell_type": "code",
   "execution_count": null,
   "metadata": {},
   "outputs": [],
   "source": []
  },
  {
   "cell_type": "markdown",
   "metadata": {},
   "source": [
    "N Natural numbers are 0, all positive numbers and are integers eg 0, 1,2,3 etc\n",
    "Z includes natural numbers and negatives eg -3,-2,-1,0,1,2,3\n",
    "Q (rational numbers) is all the above two sets and every number that can be a ratio eg 1/2 etc\n",
    "R (real numbers) all sets above and eg sqrt of 2, e, pie etc\n",
    "\n",
    "N and Z are discrete\n",
    "Q and R are continuous\n"
   ]
  },
  {
   "cell_type": "markdown",
   "metadata": {},
   "source": [
    "180 degrees = pie radians, thus 90 degrees = pie/2"
   ]
  },
  {
   "cell_type": "code",
   "execution_count": null,
   "metadata": {},
   "outputs": [],
   "source": [
    "#create vector\n",
    "v = np.array(...)\n",
    "# fing length of vector\n",
    "np.linarg.norm(v)"
   ]
  }
 ],
 "metadata": {
  "language_info": {
   "name": "python"
  },
  "orig_nbformat": 4
 },
 "nbformat": 4,
 "nbformat_minor": 2
}
